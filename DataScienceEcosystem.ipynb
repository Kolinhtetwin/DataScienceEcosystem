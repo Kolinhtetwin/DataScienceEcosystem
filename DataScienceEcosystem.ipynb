{
 "cells": [
  {
   "cell_type": "markdown",
   "id": "27bab5b7-3a64-4eaf-a188-ffa35f2f09b5",
   "metadata": {},
   "source": [
    "# Data Science Tools and Ecosystem"
   ]
  },
  {
   "cell_type": "markdown",
   "id": "3c2513f9-724c-427b-b0ba-5357172c1d73",
   "metadata": {},
   "source": [
    "In this notebook, Data Science Tools and Ecosystem are summarized."
   ]
  },
  {
   "cell_type": "markdown",
   "id": "0107206a-ba57-438d-a582-5ca308fcedda",
   "metadata": {},
   "source": [
    "**Objectives:**\n",
    "List popular languages for Data Science\n",
    " - Python\n",
    " - R\n",
    " - SQL"
   ]
  },
  {
   "cell_type": "markdown",
   "id": "11c60bca-c95e-4467-94e7-d6c8a34928d2",
   "metadata": {},
   "source": [
    "Some of the popular languages that Data Scientists use are:"
   ]
  },
  {
   "cell_type": "markdown",
   "id": "454c6ea3-b2c9-48cd-81af-bed64a58d233",
   "metadata": {},
   "source": [
    "1. Python\n",
    "2. R\n",
    "3. Julia\n",
    "4. SQL"
   ]
  },
  {
   "cell_type": "markdown",
   "id": "0b1ebcfb-c8b6-410e-819a-a30c6f958e7d",
   "metadata": {
    "tags": []
   },
   "source": [
    "Some of the commonly used libraries used by Data Scientists include:"
   ]
  },
  {
   "cell_type": "markdown",
   "id": "fe99995e-7fd5-4796-bd2d-39e5f164ac32",
   "metadata": {},
   "source": [
    "1. Numpy\n",
    "2. TensorFlow\n",
    "3. Scipy\n",
    "4. Pandas"
   ]
  },
  {
   "cell_type": "markdown",
   "id": "ff255536-bfd6-43cb-82e1-365302474650",
   "metadata": {},
   "source": [
    "|Data Science Tools|\n",
    "|------------------|\n",
    "|Jupyter Notebook  |\n",
    "|RStudio           |\n",
    "|Visual Studio     |"
   ]
  },
  {
   "cell_type": "markdown",
   "id": "272cfb78-23c6-48cf-91e2-40baf006d81b",
   "metadata": {},
   "source": [
    "### Below are a few examples of evaluating arithmetic expressions in Python"
   ]
  },
  {
   "cell_type": "markdown",
   "id": "065796b5-a718-40c7-a26c-0e52d2baa6a4",
   "metadata": {},
   "source": [
    "This a simple arithmetic expression to mutiply then add integers"
   ]
  },
  {
   "cell_type": "code",
   "execution_count": 2,
   "id": "5d162d16-576b-4b57-aa6c-dab04a94ea30",
   "metadata": {
    "tags": []
   },
   "outputs": [
    {
     "data": {
      "text/plain": [
       "17"
      ]
     },
     "execution_count": 2,
     "metadata": {},
     "output_type": "execute_result"
    }
   ],
   "source": [
    "(3*4)+5"
   ]
  },
  {
   "cell_type": "markdown",
   "id": "ab1f04e9-6e7d-43ca-90e7-49779ab1ac65",
   "metadata": {},
   "source": [
    "This will convert 200 minutes to hours by diving by 60"
   ]
  },
  {
   "cell_type": "code",
   "execution_count": 3,
   "id": "bc66a789-33cf-4415-a5e7-c3340bd8daa0",
   "metadata": {
    "tags": []
   },
   "outputs": [
    {
     "data": {
      "text/plain": [
       "3.3333333333333335"
      ]
     },
     "execution_count": 3,
     "metadata": {},
     "output_type": "execute_result"
    }
   ],
   "source": [
    "200/60"
   ]
  },
  {
   "cell_type": "markdown",
   "id": "25645e73-bb8a-4f5a-b288-31abfcf690bc",
   "metadata": {},
   "source": [
    "## Author\n",
    "Lin Htet Win"
   ]
  },
  {
   "cell_type": "code",
   "execution_count": null,
   "id": "29d3e0db-1c71-4489-8a1d-e8b46577b413",
   "metadata": {},
   "outputs": [],
   "source": []
  }
 ],
 "metadata": {
  "kernelspec": {
   "display_name": "Python",
   "language": "python",
   "name": "conda-env-python-py"
  },
  "language_info": {
   "codemirror_mode": {
    "name": "ipython",
    "version": 3
   },
   "file_extension": ".py",
   "mimetype": "text/x-python",
   "name": "python",
   "nbconvert_exporter": "python",
   "pygments_lexer": "ipython3",
   "version": "3.7.12"
  }
 },
 "nbformat": 4,
 "nbformat_minor": 5
}
